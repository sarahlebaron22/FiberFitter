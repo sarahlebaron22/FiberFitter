{
 "cells": [
  {
   "cell_type": "code",
   "execution_count": 7,
   "metadata": {},
   "outputs": [],
   "source": [
    "import numpy as np\n",
    "import time\n",
    "from pylablib.devices import Newport"
   ]
  },
  {
   "cell_type": "code",
   "execution_count": 6,
   "metadata": {},
   "outputs": [],
   "source": [
    "\n",
    "def gradientAscent(deltaSize, epsilon, range, location): ##Only includes x-axis shifting so far, but startingLocation variable supports up to 4 locations (see GradientTesting.ipynb)\n",
    "    global powerReading \n",
    "    powerReading = float(input(\"insert power meter reading here\"))\n",
    "    global d0\n",
    "    stage1.move_to(axis=1, position=location[0]+deltaSize)\n",
    "    global newPowerReading\n",
    "    newPowerReading = float(input(\"insert new power meter reading\"))\n",
    "    d0 = (newPowerReading - powerReading)/deltaSize\n",
    "   \n",
    "    print(f\"We started at {location}. \\n Going {deltaSize} yields a dx of {d0}.\")\n",
    "    global newLocation \n",
    "\n",
    "    ##making sure gradient ascent doesn't go out of bounds\n",
    "    if (location[0]+(d0*epsilon)) > range:\n",
    "        newLocation0 = range\n",
    "    elif (location[0]+(d0*epsilon)) < -range:\n",
    "        newLocation0 = -range\n",
    "    else:\n",
    "        newLocation0 = location[0]+(d0*epsilon)\n",
    "\n",
    "    ##need to account for motor having a greater impact moving \"backwards\" than forwards:\n",
    "    if newLocation0 < 0:\n",
    "        newLocation0 *= 0.6 ##should limit extra unintentional movement. Tune based on practice.\n",
    "\n",
    "    stage1.move_to(axis=1, position=newLocation0)\n",
    "    newLocation=stage1.get_position(axis=1)\n",
    "## def moveBy(startingLocation, epsilon, dx, dy, dz, dw): ##determines next location given the info from gradient ascent\n",
    " ##   startingLocation = [startingLocation[0]+(dx*epsilon), startingLocation[1]+(dy*epsilon), startingLocation[2]+(dz*epsilon), startingLocation[3]+(dw*epsilon)]\n",
    "\n"
   ]
  },
  {
   "cell_type": "code",
   "execution_count": 53,
   "metadata": {},
   "outputs": [],
   "source": [
    "##stage1 = Newport.Picomotor8742()\n",
    "stage1.set_position_reference(axis=1)\n",
    "stage1.get_position(axis=1)\n",
    "startingLocation = [0,0,0,0]\n",
    "preCouplePower = float(input(\"What is the maximum output of the laser prior to the coupling?\"))"
   ]
  },
  {
   "cell_type": "code",
   "execution_count": 81,
   "metadata": {},
   "outputs": [
    {
     "name": "stdout",
     "output_type": "stream",
     "text": [
      "We started at [82, 0, 0, 0]. \n",
      " Going 25 yields a dx of 1.0157894736842106.\n",
      "0.38\n"
     ]
    }
   ],
   "source": [
    "##using a static epsilon/delta\n",
    "gradientAscent(deltaSize=dDelta, epsilon=dEpsilon, range=100, location=startingLocation)\n",
    "startingLocation = [newLocation, 0, 0, 0]\n",
    "dDelta = 30*(preCouplePower-newPowerReading)\n",
    "dEpsilon = 20*(preCouplePower-newPowerReading)\n",
    "time.sleep(1) ##letting things move before running again so as to not freak out the motor\n"
   ]
  },
  {
   "cell_type": "code",
   "execution_count": null,
   "metadata": {},
   "outputs": [],
   "source": [
    "##using a dynamic epsilon/delta\n",
    "## 25 is a pretty good start -- broad enough to see decent change w/o losing the couple \n",
    "## what we want to do: decrease step size as efficiency gets higher to avoid massive overstep and losing the couple\n",
    "##                     decrease delta size to a lesser extent to avoid overshooting the peak repeatedly\n",
    "## how to do it: As power meter/photodetector reading increases, decrease both epsilon and delta by a factor proportional to the efficiency reading\n",
    "## need: \"max\" wattage/voltage reading, current wattage/voltage reading BEFORE movement. Then dEpsilon = dEpsilon*a*(max - current), dDelta = dDelta*b*(max - current)\n",
    "## use same photodetectors measuring efficiency to determine scaling of dEpsilon. Efficiency = post-couple-detector/pre-couple-detector,\n",
    "##                                                                                Scale Factor = pre-couple-detector - post-couple-detector\n",
    "## for manual mode, measure output from laser right before fiber with powermeter. Store as variable, then use as the \"pre-couple-detector\".\n"
   ]
  }
 ],
 "metadata": {
  "kernelspec": {
   "display_name": "Python 3",
   "language": "python",
   "name": "python3"
  },
  "language_info": {
   "codemirror_mode": {
    "name": "ipython",
    "version": 3
   },
   "file_extension": ".py",
   "mimetype": "text/x-python",
   "name": "python",
   "nbconvert_exporter": "python",
   "pygments_lexer": "ipython3",
   "version": "3.11.9"
  }
 },
 "nbformat": 4,
 "nbformat_minor": 2
}
