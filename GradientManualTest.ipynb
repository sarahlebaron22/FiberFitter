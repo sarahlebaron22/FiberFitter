{
 "cells": [
  {
   "cell_type": "code",
   "execution_count": 1,
   "metadata": {},
   "outputs": [],
   "source": [
    "import numpy as np\n",
    "from pylablib.devices import Newport"
   ]
  },
  {
   "cell_type": "code",
   "execution_count": 77,
   "metadata": {},
   "outputs": [
    {
     "ename": "SyntaxError",
     "evalue": "'(' was never closed (1908731.py, line 26)",
     "output_type": "error",
     "traceback": [
      "\u001b[1;36m  Cell \u001b[1;32mIn[77], line 26\u001b[1;36m\u001b[0m\n\u001b[1;33m    stage1.move_to(axis=1, position=(startingLocation[0]+d0)\u001b[0m\n\u001b[1;37m                  ^\u001b[0m\n\u001b[1;31mSyntaxError\u001b[0m\u001b[1;31m:\u001b[0m '(' was never closed\n"
     ]
    }
   ],
   "source": [
    "dx = None\n",
    "dy = None\n",
    "dz = None\n",
    "dw = None\n",
    "\n",
    "def gradientAscent(deltaSize, epsilon, range, startingLocation): ##func_4D is just our function, deltaSize is how large our step for approximating the gradient will be, and x, y, z, w are just our variables\n",
    "    global startingRegion \n",
    "    startingRegion = float(input(\"insert power meter reading here\"))\n",
    "    global d0\n",
    "    stage1.move_to(axis=1, position=startingLocation[0]+deltaSize)\n",
    "    d0 = float(input(\"insert new power meter reading\"))/startingRegion\n",
    "   \n",
    "    print(f\"We started at {startingLocation}. \\n Going {deltaSize} yields a dx of {d0}.\")\n",
    "    print(startingRegion)\n",
    "    global newLocation \n",
    "\n",
    "    ##making sure gradient ascent doesn't go out of bounds\n",
    "    if (startingLocation[0]+(d0*epsilon)) > range:\n",
    "        newLocation0 = range\n",
    "    elif (startingLocation[0]+(d0*epsilon)) < -range:\n",
    "        newLocation0 = -range\n",
    "    else:\n",
    "        newLocation0 = startingLocation[0]+(d0*epsilon)\n",
    "    ##\n",
    "\n",
    "    stage1.move_to(axis=1, position=(startingLocation[0]+d0)\n",
    "    newLocation=stage1.get_position(axis=1)\n",
    "## def moveBy(startingLocation, epsilon, dx, dy, dz, dw): ##determines next location given the info from gradient ascent\n",
    " ##   startingLocation = [startingLocation[0]+(dx*epsilon), startingLocation[1]+(dy*epsilon), startingLocation[2]+(dz*epsilon), startingLocation[3]+(dw*epsilon)]\n",
    "\n"
   ]
  },
  {
   "cell_type": "code",
   "execution_count": 53,
   "metadata": {},
   "outputs": [],
   "source": [
    "##stage1 = Newport.Picomotor8742()\n",
    "stage1.set_position_reference(axis=1)\n",
    "stage1.get_position(axis=1)\n",
    "startingLocation = [0,0,0,0]"
   ]
  },
  {
   "cell_type": "code",
   "execution_count": 81,
   "metadata": {},
   "outputs": [
    {
     "name": "stdout",
     "output_type": "stream",
     "text": [
      "We started at [82, 0, 0, 0]. \n",
      " Going 25 yields a dx of 1.0157894736842106.\n",
      "0.38\n"
     ]
    }
   ],
   "source": [
    "gradientAscent(25, 25, 100, startingLocation)\n",
    "startingLocation = [newLocation, 0, 0, 0]"
   ]
  }
 ],
 "metadata": {
  "kernelspec": {
   "display_name": "Python 3",
   "language": "python",
   "name": "python3"
  },
  "language_info": {
   "codemirror_mode": {
    "name": "ipython",
    "version": 3
   },
   "file_extension": ".py",
   "mimetype": "text/x-python",
   "name": "python",
   "nbconvert_exporter": "python",
   "pygments_lexer": "ipython3",
   "version": "3.11.0"
  }
 },
 "nbformat": 4,
 "nbformat_minor": 2
}
