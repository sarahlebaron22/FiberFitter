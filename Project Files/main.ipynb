{
 "cells": [
  {
   "cell_type": "code",
   "execution_count": 1,
   "metadata": {},
   "outputs": [],
   "source": [
    "import numpy as np\n",
    "import time\n",
    "from pylablib.devices import Newport ## for Picomotor 8742\n",
    "from labjack import ljm ## for LabJack T7"
   ]
  },
  {
   "cell_type": "code",
   "execution_count": null,
   "metadata": {},
   "outputs": [],
   "source": [
    "\"\"\" Goals:\n",
    "    1.) Design a modular gradient ascent algorithm with variable delta/epsilon\n",
    "\n",
    "    2.) Have gradient calculations be determined by number of detected motorized axes\n",
    "        - Will need to store number of motor slots in use and which motor slots are in use\n",
    "    3.) Design a tracking database/system/thing for current fiber coupling efficiency\n",
    "        - Each system will have their own individual fiber coupling efficiency reading. Need to have each independent instance of system\n",
    "          feed back to a centralized unit with this variable and compile it into a database that keeps track of which coupling is being referenced\n",
    "    4.) Design a modular movement algorithm for mirror mounts that uses data from gradient ascent algorithm\n",
    "\n",
    "    How data will be fed/read/acted on:\n",
    "    tracking system --> gradient ascent algorithm --> movement algorithm then repeat, stop.\n",
    "        - data from tracking system will be used as a reference for f(x,y,z,w) in gradient ascent algo. Then algo will call for a movement of delta,\n",
    "          then tracking system will detect change in efficiency from movement, which will be fed back into ascent algorithm to find gradient, which\n",
    "          will finally be fed into movement algorithm for the \"final\" movement for a single instance of the auto-aligner. Rinse and repeat as many\n",
    "          time as possible.\n",
    "\n",
    "\"\"\""
   ]
  },
  {
   "cell_type": "code",
   "execution_count": 2,
   "metadata": {},
   "outputs": [],
   "source": [
    "## necessary globals. Sorry about that. All of these should be constants, and all will be denoted with capslock\n",
    "global PICOMOTOR, LABJACK"
   ]
  },
  {
   "cell_type": "code",
   "execution_count": 3,
   "metadata": {},
   "outputs": [],
   "source": [
    "def initializePicomotorUSB(): ## Used to detect Picomotor through a USB connection. Will talk with the Picomotor.\n",
    "                              ## At some point, may want to change this to just \"initializePicomotor\" and have it attempt both USB and ethernet access\n",
    "    try:\n",
    "        PICOMOTOR = Newport.Picomotor8742()\n",
    "        PICOMOTOR.set_position_reference(axis=1)\n",
    "        PICOMOTOR.set_position_reference(axis=2)\n",
    "        PICOMOTOR.set_position_reference(axis=3)\n",
    "        PICOMOTOR.set_position_reference(axis=4) ## sets current coordinates of motors to [0,0,0,0]\n",
    "    except Exception as error:\n",
    "        print(f\"Device not connectable. Reason: {error}\")\n"
   ]
  },
  {
   "cell_type": "code",
   "execution_count": 8,
   "metadata": {},
   "outputs": [],
   "source": [
    "def locateAxes(): ## Used to determine number of independent mirror mounts. Will talk with Picomotor.\n",
    "    try:\n",
    "        axesInUse = PICOMOTOR.get_all_axes()\n",
    "        return len(axesInUse)\n",
    "    except Exception as error:\n",
    "        print(f\"Cannot detect axis. Has the Picomotor been initialized? \\n Reason: {error}\")"
   ]
  },
  {
   "cell_type": "code",
   "execution_count": 5,
   "metadata": {},
   "outputs": [],
   "source": [
    "def initializeLabjackT7(): ## Will talk with LabJack\n",
    "    try:\n",
    "        LABJACK = ljm.openS(\"ANY\",\"ANY\",\"ANY\") ## Opens the first Labjack found in the system\n",
    "    except Exception as error:\n",
    "        print(f\"Could not open the LabJack. Reason: {error}\")"
   ]
  },
  {
   "cell_type": "code",
   "execution_count": 6,
   "metadata": {},
   "outputs": [],
   "source": [
    "def getFiberEfficiency(preCoupleName, postCoupleName): ## Will talk with the LabJack\n",
    "                                                       ## \"name\" refers to which port on the LabJack each piece of data is being fed into\n",
    "                                                       ## i.e.:AIN0, AIN1, etc.\n",
    "    try: \n",
    "        preCoupleReading = ljm.eReadName(LABJACK, preCoupleName)\n",
    "        postCoupleReading = ljm.eReadName(LABJACK, postCoupleName)\n",
    "        efficiencyReading = postCoupleReading/preCoupleReading\n",
    "        return efficiencyReading \n",
    "    except Exception as error:\n",
    "        print(f\"Had issues collecting fiber coupling efficiency. Reason: {error}\")\n",
    "    "
   ]
  },
  {
   "cell_type": "code",
   "execution_count": 9,
   "metadata": {},
   "outputs": [],
   "source": [
    "def gradientAscent(delta, epsilon, axes, cutoff, preCoupleName, postCoupleName):\n",
    "    ##steps to ascend\n",
    "    ## 1.) Document current efficiency coupling. Store as f(x). Requires call to LabJack.\n",
    "    ## 2.) Increment by delta. Requires call to Picomotor\n",
    "    ## 3.) Document new efficiency coupling. Store as f(x + delta). Requires call to LabJack\n",
    "    ## 4.) Calculate gradient on all axes as df = [f(x + delta) - f(x)]/delta.\n",
    "    ## 5.) return df*epsilon\n",
    "    ## 6.) (Optional; should I make another function for this?) Have Picomotor move to its original location plus df*epsilon. Requires call to Picomotor.\n",
    "\n",
    "    efficiencyOld = getFiberEfficiency(preCoupleName, postCoupleName) ## Reads from LabJack\n",
    "    motorLocation = [PICOMOTOR.get_position(axis=1), PICOMOTOR.get_position(axis=2), \n",
    "                     PICOMOTOR.get_position(axis=3), PICOMOTOR.get_position(axis=4)]\n",
    "    \n",
    "    movementGradient = [] ## is a list instead of an integer because it will document changes in efficiency from movement in each direction \n",
    "\n",
    "    for i in range (0, axes):\n",
    "        PICOMOTOR.move_by(axis=i+1, steps=delta)\n",
    "        changeInEfficiency = getFiberEfficiency(preCoupleName, postCoupleName)\n",
    "        movementGradient.append[(changeInEfficiency - efficiencyOld)/delta]\n",
    "        PICOMOTOR.move_to(axis=i+1, position=motorLocation[i]) ##brings mirror back to reference location\n",
    "\n",
    "    for i in range (0, axes):\n",
    "        if motorLocation[i]+(movementGradient*epsilon) > cutoff:\n",
    "            PICOMOTOR.move_to(axis=i+1, position=cutoff)\n",
    "        elif motorLocation[i]+(movementGradient*epsilon) < -cutoff:\n",
    "            PICOMOTOR.move_to(axis=i+1, position=cutoff)  \n",
    "        else:        \n",
    "            PICOMOTOR.move_to(axis=i+1, position=motorLocation[i]+(movementGradient[i]*epsilon))\n",
    "    \n"
   ]
  }
 ],
 "metadata": {
  "kernelspec": {
   "display_name": "Python 3",
   "language": "python",
   "name": "python3"
  },
  "language_info": {
   "codemirror_mode": {
    "name": "ipython",
    "version": 3
   },
   "file_extension": ".py",
   "mimetype": "text/x-python",
   "name": "python",
   "nbconvert_exporter": "python",
   "pygments_lexer": "ipython3",
   "version": "3.11.9"
  }
 },
 "nbformat": 4,
 "nbformat_minor": 2
}
