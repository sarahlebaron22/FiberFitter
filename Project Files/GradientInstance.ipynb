{
 "cells": [
  {
   "cell_type": "code",
   "execution_count": null,
   "metadata": {},
   "outputs": [],
   "source": [
    "import main\n",
    "import numpy as np\n",
    "import time\n",
    "from pylablib.devices import Newport ## for Picomotor 8742\n",
    "from labjack import ljm ## for LabJack T7"
   ]
  },
  {
   "cell_type": "code",
   "execution_count": null,
   "metadata": {},
   "outputs": [],
   "source": [
    "main.initializePicomotorUSB()\n",
    "main.initializeLabjack()\n",
    "\n",
    "axesNum=main.locateAxes()\n",
    "targetEfficiency=0.85 "
   ]
  },
  {
   "cell_type": "code",
   "execution_count": null,
   "metadata": {},
   "outputs": [],
   "source": [
    "dDelta = 25\n",
    "dEpsilon = 25 ## Setting initial dDelta, dEpsilon jumps. Feel free to mess around with this until you find an ideal starting point.\n",
    "\n",
    "while main.getFiberEfficiency(preCoupleName=, postCoupleName=) < targetEfficiency:\n",
    "    main.gradientAscent(delta=dDelta, epsilon=dEpsilon, axes=foo2, cutoff=bar2, preCoupleName=foo3, postCoupleName=bar3)\n",
    "    dDelta=dDelta/(10*main.getFiberEfficiency(preCoupleName=, postCoupleName=))\n",
    "    dEpsilon=dEpsilon/(10*main.getFiberEfficiency(preCoupleName=, postCoupleName=))\n",
    "##all variables will be filled in once in use. For now, not relevant."
   ]
  }
 ],
 "metadata": {
  "kernelspec": {
   "display_name": "Python 3",
   "language": "python",
   "name": "python3"
  },
  "language_info": {
   "codemirror_mode": {
    "name": "ipython",
    "version": 3
   },
   "file_extension": ".py",
   "mimetype": "text/x-python",
   "name": "python",
   "nbconvert_exporter": "python",
   "pygments_lexer": "ipython3",
   "version": "3.11.9"
  }
 },
 "nbformat": 4,
 "nbformat_minor": 2
}
