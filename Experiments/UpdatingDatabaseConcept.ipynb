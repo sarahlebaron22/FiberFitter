{
 "cells": [
  {
   "cell_type": "code",
   "execution_count": 2,
   "metadata": {},
   "outputs": [],
   "source": [
    "import main\n",
    "from tkinter import *\n",
    "from tkinter import ttk\n",
    "import numpy as np\n",
    "import time\n",
    "import threading"
   ]
  },
  {
   "cell_type": "code",
   "execution_count": 3,
   "metadata": {},
   "outputs": [],
   "source": [
    "## I think the strategy here is to calculate each individual efficiency directly from the LabJack rather than to try to get \n",
    "## the fiber coupling efficiency variable from each independently running instance of the program (i.e.: rather than try to \n",
    "## feed the getFiberEfficiency variable from each Pi Pico or whatever to the database, we instead determine which analog inputs\n",
    "## correspond to which system -- like A1N0 and A1N1 for the first fiber coupling group -- and stream that data directly to this\n",
    "## database)\n",
    "## Requires initial user input to designate certain analog input addresses to certain groups."
   ]
  },
  {
   "cell_type": "code",
   "execution_count": 4,
   "metadata": {},
   "outputs": [],
   "source": [
    "## Collecting the data\n",
    "global fiberEfficiency \n",
    "fiberEfficiency = [0, 0, 0, 0, 0, 0, 0, 0]\n",
    "        "
   ]
  },
  {
   "cell_type": "code",
   "execution_count": 34,
   "metadata": {},
   "outputs": [],
   "source": [
    "\n",
    "\n",
    "##making the frame\n",
    "root = Tk()\n",
    "root.title(\"Fibercouple Database\")\n",
    "\n",
    "window = ttk.Frame(root, padding='0.5i')\n",
    "frame = ttk.Frame(window, borderwidth=5, width=500)\n",
    "window.grid(column=0, row=0)\n",
    "\n",
    "##making the labels to track fibercouple info.\n",
    "\n",
    "couple1 = ttk.Label(window, padding='0.5i', borderwidth=1)\n",
    "couple1.grid(column=1, row=1)\n",
    "couple1.grid_propagate(1)\n",
    "\n",
    "couple2 = ttk.Label(window, padding='0.5i',borderwidth=1)\n",
    "couple2.grid(column=2, row=1)\n",
    "couple2.grid_propagate(1)\n",
    "\n",
    "couple3 = ttk.Label(window, padding='0.5i',borderwidth=1)\n",
    "couple3.grid(column=3, row=1)\n",
    "couple3.grid_propagate(1)\n",
    "\n",
    "couple4 = ttk.Label(window, padding='0.5i',borderwidth=1)\n",
    "couple4.grid(column=4, row=1)\n",
    "couple4.grid_propagate(1)\n",
    "\n",
    "couple5 = ttk.Label(window, padding='0.5i',borderwidth=1)\n",
    "couple5.grid(column=1, row=2)\n",
    "couple5.grid_propagate(1)\n",
    "\n",
    "couple6 = ttk.Label(window, padding='0.5i',borderwidth=1)\n",
    "couple6.grid(column=2, row=2)\n",
    "couple6.grid_propagate(1)\n",
    "\n",
    "couple7 = ttk.Label(window, padding='0.5i',borderwidth=1)\n",
    "couple7.grid(column=3, row=2)\n",
    "couple7.grid_propagate(1)\n",
    "\n",
    "couple8 = ttk.Label(window, padding='0.5i',borderwidth=1)\n",
    "couple8.grid(column=4, row=2)\n",
    "couple8.grid_propagate(1)\n",
    "\n",
    "##\n",
    "\n",
    "root.columnconfigure(0, weight=1)\n",
    "root.rowconfigure(0, weight=1)\n",
    "\n",
    "\n",
    "\n",
    "def updateData():\n",
    "    for i in range (0, 8):\n",
    "            fiberEfficiency[i]=np.random.randint(1, 10)/np.random.randint(1, 10)\n",
    "    couple1.config(text=str(fiberEfficiency[0]))\n",
    "    couple2.config(text=str(fiberEfficiency[1]))\n",
    "    couple3.config(text=str(fiberEfficiency[2]))\n",
    "    couple4.config(text=str(fiberEfficiency[3]))\n",
    "    couple5.config(text=str(fiberEfficiency[4]))\n",
    "    couple6.config(text=str(fiberEfficiency[5]))\n",
    "    couple7.config(text=str(fiberEfficiency[6]))\n",
    "    couple8.config(text=str(fiberEfficiency[7]))\n",
    "    window.after(1000, updateData)\n",
    "\n",
    "\n",
    "##threading.Thread(target=realTimeFiberUpdate())\n",
    "updateData()\n",
    "root.minsize(height=100, width=1000)\n",
    "root.mainloop()\n",
    "\n",
    "\n",
    "\n",
    "\n",
    "\n",
    "\n"
   ]
  }
 ],
 "metadata": {
  "kernelspec": {
   "display_name": "Python 3",
   "language": "python",
   "name": "python3"
  },
  "language_info": {
   "codemirror_mode": {
    "name": "ipython",
    "version": 3
   },
   "file_extension": ".py",
   "mimetype": "text/x-python",
   "name": "python",
   "nbconvert_exporter": "python",
   "pygments_lexer": "ipython3",
   "version": "3.11.9"
  }
 },
 "nbformat": 4,
 "nbformat_minor": 2
}
