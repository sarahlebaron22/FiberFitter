{
 "cells": [
  {
   "cell_type": "code",
   "execution_count": 50,
   "metadata": {},
   "outputs": [],
   "source": [
    "import numpy as np\n",
    "from matplotlib import pyplot as plt\n",
    "import plotly\n",
    "import plotly.graph_objs as go"
   ]
  },
  {
   "cell_type": "code",
   "execution_count": 318,
   "metadata": {},
   "outputs": [],
   "source": [
    "def func_4D(x, y, z, w):\n",
    "    return 150 -x**2 - y**2 - z**2 - w**2  + x*y*z*w + np.random.randint(-10, 10)"
   ]
  },
  {
   "cell_type": "code",
   "execution_count": 320,
   "metadata": {},
   "outputs": [
    {
     "name": "stdout",
     "output_type": "stream",
     "text": [
      "We know that the absolute maximum of this function is 343 for range 4\n"
     ]
    }
   ],
   "source": [
    "input = []\n",
    "output = []\n",
    "\n",
    "rangeFunc = 4\n",
    "for i in range (-rangeFunc, rangeFunc + 1): ##x\n",
    "    for j in range (-rangeFunc, rangeFunc + 1): ##y \n",
    "        for k in range (-rangeFunc, rangeFunc + 1): ##z\n",
    "            for l in range (-rangeFunc, rangeFunc + 1): ##w\n",
    "                input.append([i, j, k, l]) ##logs 4 collumn array for coordinates\n",
    "                output.append(func_4D(i, j, k, l)) ##logs function output\n",
    "## This gives us the data for the function from -5 to 5\n",
    "\n",
    "input = np.array(input)\n",
    "output = np.array(output)\n",
    "\n",
    "##now we try gradient ascent\n",
    "\n",
    "print(f\"We know that the absolute maximum of this function is {max(output)} for range {rangeFunc}\")\n",
    "startingLocation = [np.random.randint(-rangeFunc, rangeFunc), np.random.randint(-rangeFunc,rangeFunc), np.random.randint(-rangeFunc, rangeFunc), np.random.randint(-rangeFunc, rangeFunc)] ##places us randomly upon the surface"
   ]
  },
  {
   "cell_type": "code",
   "execution_count": 79,
   "metadata": {},
   "outputs": [],
   "source": [
    "dx = None\n",
    "dy = None\n",
    "dz = None\n",
    "dw = None\n",
    "\n",
    "def gradientAscent(func_4D, deltaSize, epsilon, range, startingLocation): ##func_4D is just our function, deltaSize is how large our step for approximating the gradient will be, and x, y, z, w are just our variables\n",
    "    global startingRegion \n",
    "    startingRegion = func_4D(startingLocation[0], startingLocation[1], startingLocation[2], startingLocation[3])\n",
    "    global d0, d1, d2, d3\n",
    "    d0 = (func_4D(startingLocation[0]+deltaSize, startingLocation[1], startingLocation[2], startingLocation[3]) - startingRegion)/deltaSize\n",
    "    d1 = (func_4D(startingLocation[0], startingLocation[1]+deltaSize, startingLocation[2], startingLocation[3]) - startingRegion)/deltaSize\n",
    "    d2 = (func_4D(startingLocation[0], startingLocation[1], startingLocation[2]+deltaSize, startingLocation[3]) - startingRegion)/deltaSize\n",
    "    d3 = (func_4D(startingLocation[0], startingLocation[1], startingLocation[2], startingLocation[3]+deltaSize)- startingRegion)/deltaSize\n",
    "    print(f\"We started at {startingLocation}. \\n Going {deltaSize} in the four directions yields a dx of {dx}, a dy of {dy} a dz of {dz}, and a dw of {dw}.\")\n",
    "    print(startingRegion)\n",
    "    global newLocation \n",
    "\n",
    "    ##making sure gradient ascent doesn't go out of bounds\n",
    "    if (startingLocation[0]+(d0*epsilon)) > range:\n",
    "        newLocation0 = range\n",
    "    elif (startingLocation[0]+(d0*epsilon)) < -range:\n",
    "        newLocation0 = -range\n",
    "    else:\n",
    "        newLocation0 = startingLocation[0]+(d0*epsilon)\n",
    "    \n",
    "    if (startingLocation[1]+(d1*epsilon)) > range:\n",
    "        newLocation1 = range\n",
    "    elif (startingLocation[1]+(d1*epsilon)) < -range:\n",
    "        newLocation1 = -range\n",
    "    else:\n",
    "        newLocation1 = startingLocation[1]+(d1*epsilon)   \n",
    "\n",
    "    if (startingLocation[2]+(d2*epsilon)) > range:\n",
    "        newLocation2 = range\n",
    "    elif (startingLocation[2]+(d2*epsilon)) < -range:\n",
    "        newLocation2 = -range\n",
    "    else:\n",
    "        newLocation2 = startingLocation[2]+(d2*epsilon)\n",
    "\n",
    "    if (startingLocation[3]+(d3*epsilon)) > range:\n",
    "        newLocation3 = range\n",
    "    elif (startingLocation[3]+(d3*epsilon)) < -range:\n",
    "        newLocation3 = -range\n",
    "    else:\n",
    "        newLocation3 = startingLocation[3]+(d3*epsilon)\n",
    "    ##\n",
    "\n",
    "    newLocation = [newLocation0, newLocation1, newLocation2, newLocation3]\n",
    "## def moveBy(startingLocation, epsilon, dx, dy, dz, dw): ##determines next location given the info from gradient ascent\n",
    " ##   startingLocation = [startingLocation[0]+(dx*epsilon), startingLocation[1]+(dy*epsilon), startingLocation[2]+(dz*epsilon), startingLocation[3]+(dw*epsilon)]\n",
    "\n"
   ]
  },
  {
   "cell_type": "code",
   "execution_count": 325,
   "metadata": {},
   "outputs": [
    {
     "name": "stdout",
     "output_type": "stream",
     "text": [
      "We started at [-4, -4, 4, 4]. \n",
      " Going 1 in the four directions yields a dx of None, a dy of None a dz of None, and a dw of None.\n",
      "337\n"
     ]
    }
   ],
   "source": [
    "\n",
    "gradientAscent(func_4D, 1, 0.3, rangeFunc, startingLocation)\n",
    "startingLocation = newLocation"
   ]
  },
  {
   "cell_type": "code",
   "execution_count": 6,
   "metadata": {},
   "outputs": [],
   "source": [
    "startingLocation = [0, 0, 0, 0]"
   ]
  },
  {
   "cell_type": "code",
   "execution_count": null,
   "metadata": {},
   "outputs": [],
   "source": []
  },
  {
   "cell_type": "code",
   "execution_count": null,
   "metadata": {},
   "outputs": [],
   "source": []
  },
  {
   "cell_type": "code",
   "execution_count": 326,
   "metadata": {},
   "outputs": [
    {
     "data": {
      "text/plain": [
       "'Plot.html'"
      ]
     },
     "execution_count": 326,
     "metadata": {},
     "output_type": "execute_result"
    }
   ],
   "source": [
    "markersize = np.abs(output/13)\n",
    "markercolor = input[:, 3]\n",
    "\n",
    "fig1 = go.Scatter3d(x=input[:, 0],\n",
    "                    y=input[:, 1],\n",
    "                    z=input[:, 2],\n",
    "                    marker=dict(size=markersize,\n",
    "                                color=markercolor,\n",
    "                                opacity=0.9,\n",
    "                                reversescale=True,\n",
    "                                autocolorscale=True,\n",
    "                                coloraxis='coloraxis'\n",
    "                                ),\n",
    "                    line=dict (width=0.02),\n",
    "                    mode='markers')\n",
    "\n",
    "myLayout = go.Layout(scene=dict(xaxis=dict( title=\"x\"),\n",
    "                                yaxis=dict( title=\"y\"),\n",
    "                                zaxis=dict(title=\"z\")),)\n",
    "\n",
    "plotly.offline.plot({\"data\": [fig1],\n",
    "                     \"layout\": myLayout},\n",
    "                     auto_open=True,\n",
    "                     filename=(\"Plot.html\"))\n"
   ]
  }
 ],
 "metadata": {
  "kernelspec": {
   "display_name": "Python 3",
   "language": "python",
   "name": "python3"
  },
  "language_info": {
   "codemirror_mode": {
    "name": "ipython",
    "version": 3
   },
   "file_extension": ".py",
   "mimetype": "text/x-python",
   "name": "python",
   "nbconvert_exporter": "python",
   "pygments_lexer": "ipython3",
   "version": "3.11.9"
  }
 },
 "nbformat": 4,
 "nbformat_minor": 2
}
