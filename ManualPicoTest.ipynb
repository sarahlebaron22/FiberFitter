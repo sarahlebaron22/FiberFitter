{
 "cells": [
  {
   "cell_type": "code",
   "execution_count": 2,
   "id": "ac3c7c2f-ccd6-469a-8405-d247361c3dc1",
   "metadata": {},
   "outputs": [
    {
     "name": "stdout",
     "output_type": "stream",
     "text": [
      "Defaulting to user installation because normal site-packages is not writeable\n",
      "Collecting pylablib\n",
      "  Using cached pylablib-1.4.3-cp311-cp311-win_amd64.whl.metadata (6.3 kB)\n",
      "Requirement already satisfied: numpy in c:\\programdata\\anaconda3\\lib\\site-packages (from pylablib) (1.26.4)\n",
      "Requirement already satisfied: scipy in c:\\programdata\\anaconda3\\lib\\site-packages (from pylablib) (1.11.4)\n",
      "Requirement already satisfied: pandas in c:\\programdata\\anaconda3\\lib\\site-packages (from pylablib) (2.1.4)\n",
      "Collecting rpyc (from pylablib)\n",
      "  Using cached rpyc-6.0.0-py3-none-any.whl.metadata (3.5 kB)\n",
      "Requirement already satisfied: numba in c:\\programdata\\anaconda3\\lib\\site-packages (from pylablib) (0.59.0)\n",
      "Collecting pyft232 (from pylablib)\n",
      "  Using cached pyft232-0.12-py3-none-any.whl\n",
      "Collecting pyvisa>=1.6 (from pylablib)\n",
      "  Using cached PyVISA-1.14.1-py3-none-any.whl.metadata (7.1 kB)\n",
      "Collecting pyserial (from pylablib)\n",
      "  Using cached pyserial-3.5-py2.py3-none-any.whl.metadata (1.6 kB)\n",
      "Collecting pyusb (from pylablib)\n",
      "  Using cached pyusb-1.2.1-py3-none-any.whl.metadata (2.2 kB)\n",
      "Requirement already satisfied: pyqt5>=5.9 in c:\\programdata\\anaconda3\\lib\\site-packages (from pylablib) (5.15.10)\n",
      "Collecting pyqtgraph (from pylablib)\n",
      "  Using cached pyqtgraph-0.13.7-py3-none-any.whl.metadata (1.3 kB)\n",
      "Requirement already satisfied: PyQt5-sip<13,>=12.13 in c:\\programdata\\anaconda3\\lib\\site-packages (from pyqt5>=5.9->pylablib) (12.13.0)\n",
      "Requirement already satisfied: typing-extensions in c:\\programdata\\anaconda3\\lib\\site-packages (from pyvisa>=1.6->pylablib) (4.9.0)\n",
      "Requirement already satisfied: llvmlite<0.43,>=0.42.0dev0 in c:\\programdata\\anaconda3\\lib\\site-packages (from numba->pylablib) (0.42.0)\n",
      "Requirement already satisfied: python-dateutil>=2.8.2 in c:\\programdata\\anaconda3\\lib\\site-packages (from pandas->pylablib) (2.8.2)\n",
      "Requirement already satisfied: pytz>=2020.1 in c:\\programdata\\anaconda3\\lib\\site-packages (from pandas->pylablib) (2023.3.post1)\n",
      "Requirement already satisfied: tzdata>=2022.1 in c:\\programdata\\anaconda3\\lib\\site-packages (from pandas->pylablib) (2023.3)\n",
      "Collecting plumbum (from rpyc->pylablib)\n",
      "  Using cached plumbum-1.8.3-py3-none-any.whl.metadata (10 kB)\n",
      "Requirement already satisfied: six>=1.5 in c:\\programdata\\anaconda3\\lib\\site-packages (from python-dateutil>=2.8.2->pandas->pylablib) (1.16.0)\n",
      "Requirement already satisfied: pywin32 in c:\\programdata\\anaconda3\\lib\\site-packages (from plumbum->rpyc->pylablib) (305.1)\n",
      "Using cached pylablib-1.4.3-cp311-cp311-win_amd64.whl (1.8 MB)\n",
      "Using cached PyVISA-1.14.1-py3-none-any.whl (176 kB)\n",
      "Using cached pyserial-3.5-py2.py3-none-any.whl (90 kB)\n",
      "Using cached pyusb-1.2.1-py3-none-any.whl (58 kB)\n",
      "Using cached pyqtgraph-0.13.7-py3-none-any.whl (1.9 MB)\n",
      "Using cached rpyc-6.0.0-py3-none-any.whl (74 kB)\n",
      "Using cached plumbum-1.8.3-py3-none-any.whl (127 kB)\n",
      "Installing collected packages: pyserial, pyvisa, pyusb, pyqtgraph, plumbum, rpyc, pyft232, pylablib\n",
      "Successfully installed plumbum-1.8.3 pyft232-0.12 pylablib-1.4.3 pyqtgraph-0.13.7 pyserial-3.5 pyusb-1.2.1 pyvisa-1.14.1 rpyc-6.0.0\n",
      "Note: you may need to restart the kernel to use updated packages.\n"
     ]
    },
    {
     "name": "stderr",
     "output_type": "stream",
     "text": [
      "  WARNING: The scripts pyserial-miniterm.exe and pyserial-ports.exe are installed in 'C:\\Users\\sarah\\AppData\\Roaming\\Python\\Python311\\Scripts' which is not on PATH.\n",
      "  Consider adding this directory to PATH or, if you prefer to suppress this warning, use --no-warn-script-location.\n",
      "  WARNING: The scripts pyvisa-info.exe and pyvisa-shell.exe are installed in 'C:\\Users\\sarah\\AppData\\Roaming\\Python\\Python311\\Scripts' which is not on PATH.\n",
      "  Consider adding this directory to PATH or, if you prefer to suppress this warning, use --no-warn-script-location.\n",
      "  WARNING: The scripts rpyc_classic.exe and rpyc_registry.exe are installed in 'C:\\Users\\sarah\\AppData\\Roaming\\Python\\Python311\\Scripts' which is not on PATH.\n",
      "  Consider adding this directory to PATH or, if you prefer to suppress this warning, use --no-warn-script-location.\n"
     ]
    }
   ],
   "source": [
    "\n",
    "%pip install pylablib"
   ]
  },
  {
   "cell_type": "code",
   "execution_count": 5,
   "id": "684d5487-b652-4124-96eb-071e669f60cc",
   "metadata": {},
   "outputs": [],
   "source": [
    "##importing all necessary shit.\n",
    "import numpy as np\n",
    "import scipy\n",
    "from sklearn import linear_model\n",
    "from pylablib.devices import Newport\n",
    "from numpy.polynomial import polynomial as P\n",
    "from sklearn.linear_model import LinearRegression\n",
    "from sklearn.preprocessing import PolynomialFeatures\n"
   ]
  },
  {
   "cell_type": "code",
   "execution_count": 6,
   "id": "1a9ec50f-2778-4410-b100-9dae08b4ae22",
   "metadata": {},
   "outputs": [
    {
     "data": {
      "text/plain": [
       "0"
      ]
     },
     "execution_count": 6,
     "metadata": {},
     "output_type": "execute_result"
    }
   ],
   "source": [
    "Newport.get_usb_devices_number_picomotor()\n",
    "##Lets you know whether importing was successful and whether you can access your USB port"
   ]
  },
  {
   "cell_type": "code",
   "execution_count": null,
   "id": "5f874090-d218-4456-b915-bc1418687cf2",
   "metadata": {},
   "outputs": [],
   "source": [
    "\"\"\" At this point, USB permissions are likely going to be an issue. Took me literally 2 full days to resolve, but the soln is (for Windows):\n",
    "    1.) Elevate all USB permissions in REGEDIT. You can navigate to USB permissions by going HKEY_LOCAL_MACHINE\\SYSTEM\\CurrentControlSet\\Enum, \n",
    "        and USB should be at the bottom of this. Right click the folder and go down to permissions, then just elevate all that shit.\n",
    "    2.) Run Python in administrator if possible. I think this gets rid of the premissions issue but, regardless, I couldn't \"fix\" it on my end until\n",
    "        I did both. It's possible that is because I didn't restart my system after editing REGEDIT until I also ran as Admin, so idk which one fixed\n",
    "        it. Just do both. \"\"\"\n",
    "stage1 = Newport.Picomotor8742() ##Will connect 8742 if it is in first USB in system. If connected via Ethernet, put IP Address or Host Name in ()\n",
    "                                 ##i.e: Picomotor8742(\"0.0.0.0\") or Picomotor8742(\"8080-123456\")\n",
    "\n",
    "locationDataX1 = [0] \n",
    "locationDataY1 = [0]\n",
    "locationDataX2 = [0]\n",
    "locationDataY2 =[0]\n",
    "locationDataAll = [[0,0,0,0]]\n",
    "efficiencyData = []\n",
    "efficiencyData.append(-1*float(input(\"What is the power meter reading now?\")))\n",
    "stage1.set_position_reference() ##Sets current position as reference position so motor can go back. Note that since this is an open-loop motor, going\n",
    "                                ## back won't be perfect, but we don't need it to be."
   ]
  },
  {
   "cell_type": "code",
   "execution_count": 7,
   "id": "5876c590-e135-4b3e-9a50-9d658f564be5",
   "metadata": {},
   "outputs": [],
   "source": [
    "##Now Setting up manual input for SGD\n",
    "def randPointData(axes):\n",
    "    for i in axes:\n",
    "        newPosition = np.random.randint(-500, 500)\n",
    "        stage1.move_to(i+1, newPosition)\n",
    "        stage1.wait_move()       \n",
    "    newEfficiency = input(\"Input the new power meter reading here\")\n",
    "    efficiencyData.append(-1*float(newEfficiency))\n",
    "    locationDataX1.append(stage1.get_position(axis=1))\n",
    "    locationDataY1.append(stage1.get_position(axis=2))\n",
    "    locationDataX2.append(stage1.get_position(axis=3))\n",
    "    locationDataY2.append(stage1.get_position(axis=4))\n",
    "    locationDataAll.append(stage1.get_position())\n",
    "\n",
    "def getRandPoints(numOfPoints, axes):\n",
    "    for i in numOfPoints:\n",
    "        return randPointData(axes)\n",
    "\n",
    "##Now we can manually gather data regarding efficiency and store it to be regressed ~~stochastically~~\n",
    "\n",
    "        "
   ]
  },
  {
   "cell_type": "code",
   "execution_count": 9,
   "id": "4387bc77-0c72-4e4a-9ddd-437f79332882",
   "metadata": {},
   "outputs": [],
   "source": [
    "##Making the model\n",
    "def fittingData(locationDataAll, efficiencyData):\n",
    "    polyDeg = PolynomialFeatures(2)\n",
    "    locationDataNew = polyDeg.fit_transform(polyDeg)\n",
    "    model = LinearRegression()\n",
    "    newModel = model.fit(locationDataNew, efficiencyData)\n",
    "    optimumStep = scipy.optimize.basinhopping(newModel)\n",
    "    return(\"You should move to: \" + optimumStep)\n",
    "\n",
    "##Finding the coefficients for the most optimal mirror placement\n",
    "\n",
    "    \n"
   ]
  },
  {
   "cell_type": "code",
   "execution_count": null,
   "id": "4216ec58-cb69-496c-92c3-c154ba412521",
   "metadata": {},
   "outputs": [],
   "source": [
    "getRandPoints(10, 1)\n",
    "print(locationDataAll)\n",
    "print(efficiencyData)\n",
    "fittingData(locationDataAll, efficiencyData)"
   ]
  }
 ],
 "metadata": {
  "kernelspec": {
   "display_name": "Python 3 (ipykernel)",
   "language": "python",
   "name": "python3"
  },
  "language_info": {
   "codemirror_mode": {
    "name": "ipython",
    "version": 3
   },
   "file_extension": ".py",
   "mimetype": "text/x-python",
   "name": "python",
   "nbconvert_exporter": "python",
   "pygments_lexer": "ipython3",
   "version": "3.11.7"
  }
 },
 "nbformat": 4,
 "nbformat_minor": 5
}
